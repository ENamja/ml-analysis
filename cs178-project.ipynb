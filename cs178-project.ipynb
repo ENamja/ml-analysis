{
 "cells": [
  {
   "cell_type": "markdown",
   "id": "377c837e-2921-467b-ae5f-3a9152754e52",
   "metadata": {},
   "source": [
    "<div align=\"center\">\n",
    "<h3> CS 178: Machine Learning & Data Mining </h3>\n",
    "<h2> An Investigation of Classification Methods for Diabetes 130-US Hospitals </h2>\n",
    "</div>"
   ]
  },
  {
   "cell_type": "code",
   "execution_count": 1,
   "id": "ee5d21f9-cc02-4d7b-a9c8-d2665882809a",
   "metadata": {},
   "outputs": [
    {
     "name": "stdout",
     "output_type": "stream",
     "text": [
      "{'uci_id': 296, 'name': 'Diabetes 130-US Hospitals for Years 1999-2008', 'repository_url': 'https://archive.ics.uci.edu/dataset/296/diabetes+130-us+hospitals+for+years+1999-2008', 'data_url': 'https://archive.ics.uci.edu/static/public/296/data.csv', 'abstract': 'The dataset represents ten years (1999-2008) of clinical care at 130 US hospitals and integrated delivery networks. Each row concerns hospital records of patients diagnosed with diabetes, who underwent laboratory, medications, and stayed up to 14 days. The goal is to determine the early readmission of the patient within 30 days of discharge.\\nThe problem is important for the following reasons. Despite high-quality evidence showing improved clinical outcomes for diabetic patients who receive various preventive and therapeutic interventions, many patients do not receive them. This can be partially attributed to arbitrary diabetes management in hospital environments, which fail to attend to glycemic control. Failure to provide proper diabetes care not only increases the managing costs for the hospitals (as the patients are readmitted) but also impacts the morbidity and mortality of the patients, who may face complications associated with diabetes.\\n', 'area': 'Health and Medicine', 'tasks': ['Classification', 'Clustering'], 'characteristics': ['Multivariate'], 'num_instances': 101766, 'num_features': 47, 'feature_types': ['Categorical', 'Integer'], 'demographics': ['Race', 'Gender', 'Age'], 'target_col': ['readmitted'], 'index_col': ['encounter_id', 'patient_nbr'], 'has_missing_values': 'yes', 'missing_values_symbol': 'NaN', 'year_of_dataset_creation': 2014, 'last_updated': 'Mon Feb 26 2024', 'dataset_doi': '10.24432/C5230J', 'creators': ['John Clore', 'Krzysztof Cios', 'Jon DeShazo', 'Beata Strack'], 'intro_paper': {'title': 'Impact of HbA1c Measurement on Hospital Readmission Rates: Analysis of 70,000 Clinical Database Patient Record', 'authors': 'Beata Strack, Jonathan DeShazo, Chris Gennings, Juan Olmo, Sebastian Ventura, Krzysztof Cios, John Clore', 'published_in': 'BioMed Research International, vol. 2014', 'year': 2014, 'url': 'https://www.hindawi.com/journals/bmri/2014/781670/', 'doi': None}, 'additional_info': {'summary': 'The dataset represents ten years (1999-2008) of clinical care at 130 US hospitals and integrated delivery networks. It includes over 50 features representing patient and hospital outcomes. Information was extracted from the database for encounters that satisfied the following criteria.\\n(1)\\tIt is an inpatient encounter (a hospital admission).\\n(2)\\tIt is a diabetic encounter, that is, one during which any kind of diabetes was entered into the system as a diagnosis.\\n(3)\\tThe length of stay was at least 1 day and at most 14 days.\\n(4)\\tLaboratory tests were performed during the encounter.\\n(5)\\tMedications were administered during the encounter.\\n\\nThe data contains such attributes as patient number, race, gender, age, admission type, time in hospital, medical specialty of admitting physician, number of lab tests performed, HbA1c test result, diagnosis, number of medications, diabetic medications, number of outpatient, inpatient, and emergency visits in the year before the hospitalization, etc.', 'purpose': None, 'funded_by': None, 'instances_represent': 'The instances represent hospitalized patient records diagnosed with diabetes.', 'recommended_data_splits': 'No recommendation. The standard train-test split could be used. Can use three-way holdout split (i.e., train-validation-test) when doing model selection.', 'sensitive_data': 'Yes. The dataset contains information about the age, gender, and race of the patients.', 'preprocessing_description': None, 'variable_info': 'Detailed description of all the atrributes is provided in Table 1 Beata Strack, Jonathan P. DeShazo, Chris Gennings,  Juan L. Olmo, Sebastian Ventura,  Krzysztof J. Cios, and John N. Clore, “Impact of HbA1c Measurement on Hospital Readmission Rates: Analysis of 70,000 Clinical Database Patient Records,” BioMed Research International, vol. 2014, Article ID 781670, 11 pages, 2014.\\n\\nhttp://www.hindawi.com/journals/bmri/2014/781670/', 'citation': 'Please cite:\\nBeata Strack, Jonathan P. DeShazo, Chris Gennings, Juan L. Olmo, Sebastian Ventura, Krzysztof J. Cios, and John N. Clore, “Impact of HbA1c Measurement on Hospital Readmission Rates: Analysis of 70,000 Clinical Database Patient Records,” BioMed Research International, vol. 2014, Article ID 781670, 11 pages, 2014.'}}\n",
      "                        name     role         type demographic  \\\n",
      "0               encounter_id       ID                     None   \n",
      "1                patient_nbr       ID                     None   \n",
      "2                       race  Feature  Categorical        Race   \n",
      "3                     gender  Feature  Categorical      Gender   \n",
      "4                        age  Feature  Categorical         Age   \n",
      "5                     weight  Feature  Categorical        None   \n",
      "6          admission_type_id  Feature  Categorical        None   \n",
      "7   discharge_disposition_id  Feature  Categorical        None   \n",
      "8        admission_source_id  Feature  Categorical        None   \n",
      "9           time_in_hospital  Feature      Integer        None   \n",
      "10                payer_code  Feature  Categorical        None   \n",
      "11         medical_specialty  Feature  Categorical        None   \n",
      "12        num_lab_procedures  Feature      Integer        None   \n",
      "13            num_procedures  Feature      Integer        None   \n",
      "14           num_medications  Feature      Integer        None   \n",
      "15         number_outpatient  Feature      Integer        None   \n",
      "16          number_emergency  Feature      Integer        None   \n",
      "17          number_inpatient  Feature      Integer        None   \n",
      "18                    diag_1  Feature  Categorical        None   \n",
      "19                    diag_2  Feature  Categorical        None   \n",
      "20                    diag_3  Feature  Categorical        None   \n",
      "21          number_diagnoses  Feature      Integer        None   \n",
      "22             max_glu_serum  Feature  Categorical        None   \n",
      "23                 A1Cresult  Feature  Categorical        None   \n",
      "24                 metformin  Feature  Categorical        None   \n",
      "25               repaglinide  Feature  Categorical        None   \n",
      "26               nateglinide  Feature  Categorical        None   \n",
      "27            chlorpropamide  Feature  Categorical        None   \n",
      "28               glimepiride  Feature  Categorical        None   \n",
      "29             acetohexamide  Feature  Categorical        None   \n",
      "30                 glipizide  Feature  Categorical        None   \n",
      "31                 glyburide  Feature  Categorical        None   \n",
      "32               tolbutamide  Feature  Categorical        None   \n",
      "33              pioglitazone  Feature  Categorical        None   \n",
      "34             rosiglitazone  Feature  Categorical        None   \n",
      "35                  acarbose  Feature  Categorical        None   \n",
      "36                  miglitol  Feature  Categorical        None   \n",
      "37              troglitazone  Feature  Categorical        None   \n",
      "38                tolazamide  Feature  Categorical        None   \n",
      "39                   examide  Feature  Categorical        None   \n",
      "40               citoglipton  Feature  Categorical        None   \n",
      "41                   insulin  Feature  Categorical        None   \n",
      "42       glyburide-metformin  Feature  Categorical        None   \n",
      "43       glipizide-metformin  Feature  Categorical        None   \n",
      "44  glimepiride-pioglitazone  Feature  Categorical        None   \n",
      "45   metformin-rosiglitazone  Feature  Categorical        None   \n",
      "46    metformin-pioglitazone  Feature  Categorical        None   \n",
      "47                    change  Feature  Categorical        None   \n",
      "48               diabetesMed  Feature  Categorical        None   \n",
      "49                readmitted   Target  Categorical        None   \n",
      "\n",
      "                                          description units missing_values  \n",
      "0                   Unique identifier of an encounter  None             no  \n",
      "1                      Unique identifier of a patient  None             no  \n",
      "2   Values: Caucasian, Asian, African American, Hi...  None            yes  \n",
      "3           Values: male, female, and unknown/invalid  None             no  \n",
      "4   Grouped in 10-year intervals: [0, 10), [10, 20...  None             no  \n",
      "5                                   Weight in pounds.  None            yes  \n",
      "6   Integer identifier corresponding to 9 distinct...  None             no  \n",
      "7   Integer identifier corresponding to 29 distinc...  None             no  \n",
      "8   Integer identifier corresponding to 21 distinc...  None             no  \n",
      "9   Integer number of days between admission and d...  None             no  \n",
      "10  Integer identifier corresponding to 23 distinc...  None            yes  \n",
      "11  Integer identifier of a specialty of the admit...  None            yes  \n",
      "12  Number of lab tests performed during the encou...  None             no  \n",
      "13  Number of procedures (other than lab tests) pe...  None             no  \n",
      "14  Number of distinct generic names administered ...  None             no  \n",
      "15  Number of outpatient visits of the patient in ...  None             no  \n",
      "16  Number of emergency visits of the patient in t...  None             no  \n",
      "17  Number of inpatient visits of the patient in t...  None             no  \n",
      "18  The primary diagnosis (coded as first three di...  None            yes  \n",
      "19  Secondary diagnosis (coded as first three digi...  None            yes  \n",
      "20  Additional secondary diagnosis (coded as first...  None            yes  \n",
      "21          Number of diagnoses entered to the system  None             no  \n",
      "22  Indicates the range of the result or if the te...  None             no  \n",
      "23  Indicates the range of the result or if the te...  None             no  \n",
      "24  The feature indicates whether the drug was pre...  None             no  \n",
      "25  The feature indicates whether the drug was pre...  None             no  \n",
      "26  The feature indicates whether the drug was pre...  None             no  \n",
      "27  The feature indicates whether the drug was pre...  None             no  \n",
      "28  The feature indicates whether the drug was pre...  None             no  \n",
      "29  The feature indicates whether the drug was pre...  None             no  \n",
      "30  The feature indicates whether the drug was pre...  None             no  \n",
      "31  The feature indicates whether the drug was pre...  None             no  \n",
      "32  The feature indicates whether the drug was pre...  None             no  \n",
      "33  The feature indicates whether the drug was pre...  None             no  \n",
      "34  The feature indicates whether the drug was pre...  None             no  \n",
      "35  The feature indicates whether the drug was pre...  None             no  \n",
      "36  The feature indicates whether the drug was pre...  None             no  \n",
      "37  The feature indicates whether the drug was pre...  None             no  \n",
      "38  The feature indicates whether the drug was pre...  None             no  \n",
      "39  The feature indicates whether the drug was pre...  None             no  \n",
      "40  The feature indicates whether the drug was pre...  None             no  \n",
      "41  The feature indicates whether the drug was pre...  None             no  \n",
      "42  The feature indicates whether the drug was pre...  None             no  \n",
      "43  The feature indicates whether the drug was pre...  None             no  \n",
      "44  The feature indicates whether the drug was pre...  None             no  \n",
      "45  The feature indicates whether the drug was pre...  None             no  \n",
      "46  The feature indicates whether the drug was pre...  None             no  \n",
      "47  Indicates if there was a change in diabetic me...  None             no  \n",
      "48  Indicates if there was any diabetic medication...  None             no  \n",
      "49  Days to inpatient readmission. Values: <30 if ...  None             no  \n"
     ]
    },
    {
     "name": "stderr",
     "output_type": "stream",
     "text": [
      "C:\\Users\\namel\\anaconda3\\envs\\cs178\\lib\\site-packages\\ucimlrepo\\fetch.py:97: DtypeWarning: Columns (10) have mixed types. Specify dtype option on import or set low_memory=False.\n",
      "  df = pd.read_csv(data_url)\n"
     ]
    }
   ],
   "source": [
    "import numpy as np\n",
    "import pandas as pd\n",
    "\n",
    "from typing import List, Tuple\n",
    "import matplotlib.pyplot as plt\n",
    "import math\n",
    "\n",
    "from sklearn.datasets import fetch_openml\n",
    "from sklearn.neighbors import KNeighborsClassifier, NearestCentroid\n",
    "from sklearn.metrics import accuracy_score, confusion_matrix, ConfusionMatrixDisplay\n",
    "from sklearn.model_selection import train_test_split\n",
    "from sklearn.inspection import DecisionBoundaryDisplay\n",
    "from sklearn.preprocessing import StandardScaler, LabelEncoder\n",
    "\n",
    "seed=1234\n",
    "np.random.seed(seed)\n",
    "\n",
    "# Import diabetes dataset\n",
    "from ucimlrepo import fetch_ucirepo, list_available_datasets\n",
    "\n",
    "# fetch dataset \n",
    "diabetes_df = fetch_ucirepo(id=296) \n",
    "\n",
    "# move data to features and target\n",
    "diabetes_X = diabetes_df.data.features \n",
    "diabetes_y = diabetes_df.data.targets \n",
    "  \n",
    "# metadata \n",
    "print(diabetes_df.metadata) \n",
    "  \n",
    "# variable information \n",
    "print(diabetes_df.variables)"
   ]
  },
  {
   "cell_type": "markdown",
   "id": "5c309743-3abd-446e-86cd-58ca5a7affe8",
   "metadata": {},
   "source": [
    "We will do an analysis of different models in relation to the diabetes dataset."
   ]
  },
  {
   "cell_type": "code",
   "execution_count": 2,
   "id": "e64bc05b-b2db-4688-ab11-c4d9fe7f5f2b",
   "metadata": {},
   "outputs": [
    {
     "name": "stdout",
     "output_type": "stream",
     "text": [
      "race                         2273\n",
      "gender                          0\n",
      "age                             0\n",
      "weight                      98569\n",
      "admission_type_id               0\n",
      "discharge_disposition_id        0\n",
      "admission_source_id             0\n",
      "time_in_hospital                0\n",
      "payer_code                  40256\n",
      "medical_specialty           49949\n",
      "num_lab_procedures              0\n",
      "num_procedures                  0\n",
      "num_medications                 0\n",
      "number_outpatient               0\n",
      "number_emergency                0\n",
      "number_inpatient                0\n",
      "diag_1                         21\n",
      "diag_2                        358\n",
      "diag_3                       1423\n",
      "number_diagnoses                0\n",
      "max_glu_serum                   0\n",
      "A1Cresult                       0\n",
      "metformin                       0\n",
      "repaglinide                     0\n",
      "nateglinide                     0\n",
      "chlorpropamide                  0\n",
      "glimepiride                     0\n",
      "acetohexamide                   0\n",
      "glipizide                       0\n",
      "glyburide                       0\n",
      "tolbutamide                     0\n",
      "pioglitazone                    0\n",
      "rosiglitazone                   0\n",
      "acarbose                        0\n",
      "miglitol                        0\n",
      "troglitazone                    0\n",
      "tolazamide                      0\n",
      "examide                         0\n",
      "citoglipton                     0\n",
      "insulin                         0\n",
      "glyburide-metformin             0\n",
      "glipizide-metformin             0\n",
      "glimepiride-pioglitazone        0\n",
      "metformin-rosiglitazone         0\n",
      "metformin-pioglitazone          0\n",
      "change                          0\n",
      "diabetesMed                     0\n",
      "dtype: int64\n"
     ]
    }
   ],
   "source": [
    "# Count the number of NaN values in each column\n",
    "print(diabetes_X.isnull().sum())"
   ]
  },
  {
   "cell_type": "markdown",
   "id": "12cd7ba7-9946-45e2-8933-b9b8ebad7820",
   "metadata": {},
   "source": [
    "We see that the columns for weight, payer_code, and medical_specialty have a significant number of null values while the rest of the features are fairly reliable. We will drop these columns, and drop all rows and columns that have null values afterwards."
   ]
  },
  {
   "cell_type": "code",
   "execution_count": 3,
   "id": "8b35bf3a-6f5f-418a-99a4-ed66923ddbe3",
   "metadata": {},
   "outputs": [],
   "source": [
    "all_columns = np.asarray(diabetes_X.columns)\n",
    "# hard to represent diag_1, diag_2, and diag_3 as numeric values\n",
    "# drop diag_1, diag_2, diag_3:\n",
    "rid_columns = ['weight', 'payer_code', 'medical_specialty', 'diag_1', 'diag_2', 'diag_3']\n",
    "# rid_columns = ['weight', 'payer_code', 'medical_specialty']\n",
    "diabetes_X_drop = diabetes_X.loc[:, [col for col in all_columns if col not in rid_columns]]"
   ]
  },
  {
   "cell_type": "markdown",
   "id": "79d6de38-a0f6-43f0-82e9-9b053816632b",
   "metadata": {},
   "source": [
    "We can convert any non-numeric columns to numeric values."
   ]
  },
  {
   "cell_type": "code",
   "execution_count": 4,
   "id": "19dc35ce-db76-43c6-900f-8be6067b95c1",
   "metadata": {},
   "outputs": [],
   "source": [
    "# Convert gender for where 0 refers to male, 1 for female, and 0.5 for unknown/invalid\n",
    "gender_mapping = {'Male': 0, 'Female': 1, 'Unknown/Invalid': 0.5}\n",
    "diabetes_X_drop['gender'] = diabetes_X_drop['gender'].map(gender_mapping)\n",
    "\n",
    "# Convert drugs values\n",
    "dosage_mapping = {'No': 0, 'Down': 0.5, 'Steady': 0.75, 'Up': 1}\n",
    "\n",
    "drugs = ['metformin', 'repaglinide', 'nateglinide', 'chlorpropamide', 'glimepiride',\n",
    "       'acetohexamide', 'glipizide', 'glyburide', 'tolbutamide',\n",
    "       'pioglitazone', 'rosiglitazone', 'acarbose', 'miglitol', 'troglitazone',\n",
    "       'tolazamide', 'examide', 'citoglipton', 'insulin',\n",
    "       'glyburide-metformin', 'glipizide-metformin',\n",
    "       'glimepiride-pioglitazone', 'metformin-rosiglitazone',\n",
    "       'metformin-pioglitazone']\n",
    "for drug in drugs:\n",
    "    diabetes_X_drop[drug] = diabetes_X_drop[drug].map(dosage_mapping)\n",
    "\n",
    "# Convert age values\n",
    "age_mapping = {'[0-10)': 0, '[10-20)': 10, '[20-30)': 20, '[30-40)': 30, '[40-50)': 40, '[50-60)': 50, '[60-70)': 60, '[70-80)': 70, '[80-90)': 80, '[90-100)': 90}\n",
    "diabetes_X_drop['age'] = diabetes_X_drop['age'].map(age_mapping)\n",
    "\n",
    "# Convert change values\n",
    "diabetes_X_drop['change'] = diabetes_X_drop['change'].map({'No': 0, 'Ch': 1})\n",
    "\n",
    "# Convert diabetesMed values\n",
    "diabetes_X_drop['diabetesMed'] = diabetes_X_drop['diabetesMed'].map({'No': 0, 'Yes': 1})\n",
    "\n",
    "# Create multiple columns for races indicating binary values for yes or no\n",
    "diabetes_X_drop = pd.get_dummies(diabetes_X_drop, columns=['race'], prefix='race')\n",
    "\n",
    "# Create multiple columns for A1Cresult\n",
    "diabetes_X_drop = pd.get_dummies(diabetes_X_drop, columns=['A1Cresult'], prefix='A1Cresult')\n",
    "\n",
    "# Create multiple columns for max_glu_serum\n",
    "diabetes_X_drop = pd.get_dummies(diabetes_X_drop, columns=['max_glu_serum'], prefix='max_glu_serum')"
   ]
  },
  {
   "cell_type": "code",
   "execution_count": 5,
   "id": "c73846d3-3c79-4309-a689-5067ebf494ca",
   "metadata": {},
   "outputs": [],
   "source": [
    "# What to do with NaN values - dropna(), replace(), or interpolate():\n",
    "\n",
    "# Drop columns where the percentage of missing values is greater than the threshold\n",
    "diabetes_clean_X = diabetes_X_drop.dropna()\n",
    "diabetes_clean_y = diabetes_y.iloc[diabetes_clean_X.index]"
   ]
  },
  {
   "cell_type": "code",
   "execution_count": 6,
   "id": "0284d8ad-a339-473b-8907-df1536b4a150",
   "metadata": {},
   "outputs": [
    {
     "name": "stdout",
     "output_type": "stream",
     "text": [
      "(101766, 51)\n",
      "(101766, 1)\n",
      "(30000, 51)\n",
      "(30000, 1)\n"
     ]
    }
   ],
   "source": [
    "print(diabetes_clean_X.shape)\n",
    "print(diabetes_clean_y.shape)\n",
    "\n",
    "# Only use first 10,000 data points for testing:\n",
    "diabetes_sub_X = diabetes_clean_X.iloc[:30000]\n",
    "diabetes_sub_y = diabetes_clean_y.iloc[:30000]\n",
    "\n",
    "# Split data to 75% training data and 25% testing data\n",
    "diabetes_X_tr, diabetes_X_te, diabetes_y_tr, diabetes_y_te = train_test_split(diabetes_sub_X, diabetes_sub_y, test_size=0.25, random_state=seed, shuffle=True)\n",
    "\n",
    "print(diabetes_sub_X.shape)\n",
    "print(diabetes_sub_y.shape)"
   ]
  },
  {
   "cell_type": "markdown",
   "id": "0498ec65-6d11-4d5c-ae46-a0c01b6de535",
   "metadata": {},
   "source": [
    "### k-Nearest Neighbors (kNN)"
   ]
  },
  {
   "cell_type": "markdown",
   "id": "8f1cf0b7-1d74-477d-924d-60cfa79193cb",
   "metadata": {},
   "source": [
    "Before Scaling:"
   ]
  },
  {
   "cell_type": "code",
   "execution_count": 7,
   "id": "a0faf02e-a8ab-4f16-be4a-d67c1432cc34",
   "metadata": {},
   "outputs": [
    {
     "data": {
      "text/plain": [
       "[]"
      ]
     },
     "execution_count": 7,
     "metadata": {},
     "output_type": "execute_result"
    },
    {
     "data": {
      "image/png": "[encoded data removed]",
      "text/plain": [
       "<Figure size 600x600 with 1 Axes>"
      ]
     },
     "metadata": {},
     "output_type": "display_data"
    }
   ],
   "source": [
    "figure, axes = plt.subplots(1, figsize=(6, 6))\n",
    "k_values = [1, 5, 10, 20, 50]\n",
    "\n",
    "tr_error_rates = []\n",
    "te_error_rates = []\n",
    "\n",
    "diabetes_X_tr_arr = diabetes_X_tr.values\n",
    "diabetes_y_tr_arr = diabetes_y_tr.values.ravel()\n",
    "diabetes_X_te_arr = diabetes_X_te.values\n",
    "diabetes_y_te_arr = diabetes_y_te.values.ravel()\n",
    "\n",
    "for k in k_values:\n",
    "    knn = KNeighborsClassifier(n_neighbors=k)\n",
    "    knn.fit(diabetes_X_tr_arr, diabetes_y_tr_arr)\n",
    "    tr_error_rates.append(1 - accuracy_score(diabetes_y_tr_arr, knn.predict(diabetes_X_tr_arr)))\n",
    "    te_error_rates.append(1 - accuracy_score(diabetes_y_te_arr, knn.predict(diabetes_X_te_arr)))\n",
    "axes.semilogx(k_values, tr_error_rates, label='Train')\n",
    "axes.semilogx(k_values, te_error_rates, label='Test')\n",
    "axes.set_xlabel('k')\n",
    "axes.set_ylabel('Error Rate')\n",
    "axes.set_title('Error Rates VS k')\n",
    "axes.legend(fontsize=12)\n",
    "axes.set_xticks(k_values)\n",
    "axes.set_xticklabels(k_values)\n",
    "\n",
    "plt.plot()"
   ]
  },
  {
   "cell_type": "markdown",
   "id": "54c17297-6f64-4301-a024-735952ec510d",
   "metadata": {},
   "source": [
    "After Scaling:"
   ]
  },
  {
   "cell_type": "code",
   "execution_count": 8,
   "id": "f60087b5-df3d-4724-a76f-6b6e5ab3e5ce",
   "metadata": {},
   "outputs": [
    {
     "data": {
      "text/plain": [
       "[]"
      ]
     },
     "execution_count": 8,
     "metadata": {},
     "output_type": "execute_result"
    },
    {
     "data": {
      "image/png": "[encoded data removed]",
      "text/plain": [
       "<Figure size 600x600 with 1 Axes>"
      ]
     },
     "metadata": {},
     "output_type": "display_data"
    }
   ],
   "source": [
    "figure, axes = plt.subplots(1, figsize=(6, 6))\n",
    "\n",
    "scaler = StandardScaler()\n",
    "\n",
    "tr_error_rates = []\n",
    "te_error_rates = []\n",
    "\n",
    "diabetes_X_tr_arr = scaler.fit_transform(diabetes_X_tr.values)\n",
    "diabetes_y_tr_arr = diabetes_y_tr.values.ravel()\n",
    "diabetes_X_te_arr = scaler.fit_transform(diabetes_X_te.values)\n",
    "diabetes_y_te_arr = diabetes_y_te.values.ravel()\n",
    "\n",
    "for k in k_values:\n",
    "    knn = KNeighborsClassifier(n_neighbors=k)\n",
    "    knn.fit(diabetes_X_tr_arr, diabetes_y_tr_arr)\n",
    "    tr_error_rates.append(1 - accuracy_score(diabetes_y_tr_arr, knn.predict(diabetes_X_tr_arr)))\n",
    "    te_error_rates.append(1 - accuracy_score(diabetes_y_te_arr, knn.predict(diabetes_X_te_arr)))\n",
    "axes.semilogx(k_values, tr_error_rates, label='Train')\n",
    "axes.semilogx(k_values, te_error_rates, label='Test')\n",
    "axes.set_xlabel('k')\n",
    "axes.set_ylabel('Error Rate')\n",
    "axes.set_title('Error Rates VS k')\n",
    "axes.legend(fontsize=12)\n",
    "axes.set_xticks(k_values)\n",
    "axes.set_xticklabels(k_values)\n",
    "\n",
    "plt.plot()"
   ]
  },
  {
   "cell_type": "markdown",
   "id": "659a8bcb-e124-4f9f-aeba-1ee37ad0794e",
   "metadata": {},
   "source": [
    "### Gradient Descent"
   ]
  },
  {
   "cell_type": "code",
   "execution_count": 9,
   "id": "ba64b562-bcfb-4cea-9970-60b8ca122dcf",
   "metadata": {},
   "outputs": [],
   "source": [
    "from sklearn.linear_model import LogisticRegression"
   ]
  },
  {
   "cell_type": "code",
   "execution_count": 25,
   "id": "634f93e8-5234-4882-aaa3-54d518d4acc1",
   "metadata": {},
   "outputs": [],
   "source": [
    "# Sigmoid function\n",
    "def sigmoid(z):\n",
    "    return 1 / (1 + np.exp(-z))\n",
    "\n",
    "# Cost function\n",
    "def compute_cost(X, y, theta):\n",
    "    m = len(y)\n",
    "    h = sigmoid(np.dot(X, theta))\n",
    "    cost = -1/m * (np.dot(y, np.log(h)) + np.dot((1-y), np.log(1-h)))\n",
    "    return cost\n",
    "\n",
    "# Gradient descent function\n",
    "def gradient_descent(X, y, theta, learning_rate, num_iterations):\n",
    "    m = len(y)\n",
    "    cost_history = np.zeros(num_iterations)\n",
    "\n",
    "    for i in range(num_iterations):\n",
    "        h = sigmoid(np.dot(X, theta))\n",
    "        gradient = np.dot(X.T, (h - y)) / m\n",
    "        theta -= learning_rate * gradient\n",
    "        cost_history[i] = compute_cost(X, y, theta)\n",
    "\n",
    "    return theta, cost_history\n",
    "\n",
    "# One-vs-Rest (OvR) training for multiclass\n",
    "def one_vs_rest(X, y, num_classes, learning_rate, num_iterations):\n",
    "    m, n = X.shape\n",
    "    all_theta = np.zeros((num_classes, n))\n",
    "    for i in range(num_classes):\n",
    "        # Create binary labels for class i vs. all other classes\n",
    "        y_binary = (y == i).astype(int)\n",
    "        theta = np.zeros(n)\n",
    "        theta, _ = gradient_descent(X, y_binary, theta, learning_rate, num_iterations)\n",
    "        all_theta[i, :] = theta\n",
    "    return all_theta\n",
    "\n",
    "# Predict classes for multiclass\n",
    "def predict_multiclass(X, all_theta):\n",
    "    # Compute the probability for each class\n",
    "    h = sigmoid(np.dot(X, all_theta.T))\n",
    "    # Select the class with the highest probability\n",
    "    return np.argmax(h, axis=1)\n",
    "\n",
    "# Calculate accuracy\n",
    "def calculate_accuracy(y_true, y_pred):\n",
    "    return np.mean(y_true == y_pred)"
   ]
  },
  {
   "cell_type": "code",
   "execution_count": 35,
   "id": "0b206330-f8f9-403b-98c2-c754be9c4c6a",
   "metadata": {},
   "outputs": [
    {
     "name": "stdout",
     "output_type": "stream",
     "text": [
      "Train accuracy w/ learning rate 0.01: 0.5780444444444445\n",
      "Test accuracy w/ learning rate 0.01: 0.5830666666666666\n",
      "Train accuracy w/ learning rate 0.02: 0.5802666666666667\n",
      "Test accuracy w/ learning rate 0.02: 0.5832\n",
      "Train accuracy w/ learning rate 0.05: 0.5811555555555555\n",
      "Test accuracy w/ learning rate 0.05: 0.5837333333333333\n",
      "Train accuracy w/ learning rate 0.1: 0.5811555555555555\n",
      "Test accuracy w/ learning rate 0.1: 0.5849333333333333\n"
     ]
    }
   ],
   "source": [
    "# No penalty\n",
    "y_1 = LabelEncoder().fit_transform(diabetes_y_tr_arr)\n",
    "y_test_1 = LabelEncoder().fit_transform(diabetes_y_te_arr)\n",
    "X_1 = scaler.fit_transform(diabetes_X_tr_arr)\n",
    "X_1 = np.hstack((np.ones((X_1.shape[0], 1)), X_1))\n",
    "X_test_1 = scaler.fit_transform(diabetes_X_te_arr)\n",
    "X_test_1 = np.hstack((np.ones((X_test_1.shape[0], 1)), X_test_1))\n",
    "\n",
    "num_classes = 3\n",
    "learning_rates = [0.01, 0.02, 0.05, 0.1, 0.5]\n",
    "num_iterations = 500\n",
    "\n",
    "for rate in learning_rates:\n",
    "    # Run gradient descent for every class\n",
    "    all_theta_train = one_vs_rest(X_1, y_1, num_classes, rate, num_iterations)\n",
    "    \n",
    "    # Predict\n",
    "    y_pred_train = predict_multiclass(X_1, all_theta_train)\n",
    "    y_pred_test = predict_multiclass(X_test_1, all_theta_train)\n",
    "    \n",
    "    # Calculate accuracy\n",
    "    train_accuracy = calculate_accuracy(y_1, y_pred_train)\n",
    "    print(f\"Train accuracy w/ learning rate {rate}:\", train_accuracy)\n",
    "    test_accuracy = calculate_accuracy(y_test_1, y_pred_test)\n",
    "    print(f\"Test accuracy w/ learning rate {rate}:\", test_accuracy)"
   ]
  }
 ],
 "metadata": {
  "kernelspec": {
   "display_name": "Python 3 (ipykernel)",
   "language": "python",
   "name": "python3"
  },
  "language_info": {
   "codemirror_mode": {
    "name": "ipython",
    "version": 3
   },
   "file_extension": ".py",
   "mimetype": "text/x-python",
   "name": "python",
   "nbconvert_exporter": "python",
   "pygments_lexer": "ipython3",
   "version": "3.10.14"
  }
 },
 "nbformat": 4,
 "nbformat_minor": 5
}
