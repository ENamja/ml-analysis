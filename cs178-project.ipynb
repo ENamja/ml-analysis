{
 "cells": [
  {
   "cell_type": "markdown",
   "id": "377c837e-2921-467b-ae5f-3a9152754e52",
   "metadata": {},
   "source": [
    "<div align=\"center\">\n",
    "<h3> CS 178: Machine Learning & Data Mining </h3>\n",
    "<h1> ML Model Analysis </h1>\n",
    "</div>"
   ]
  },
  {
   "cell_type": "code",
   "execution_count": null,
   "id": "ee5d21f9-cc02-4d7b-a9c8-d2665882809a",
   "metadata": {},
   "outputs": [],
   "source": [
    "# Import diabetes dataset\n",
    "url = "
   ]
  },
  {
   "cell_type": "markdown",
   "id": "5c309743-3abd-446e-86cd-58ca5a7affe8",
   "metadata": {},
   "source": [
    "We will do an analysis of different models in relation to the diabetes dataset."
   ]
  },
  {
   "cell_type": "code",
   "execution_count": null,
   "id": "2111a879-da57-4230-9fd4-c6cb946fa223",
   "metadata": {},
   "outputs": [],
   "source": [
    "import numpy as np\n",
    "import matplotlib.pyplot as plt\n",
    "     \n",
    "from sklearn.datasets import fetch_openml, make_moons\n",
    "from sklearn.neighbors import KNeighborsClassifier, NearestCentroid\n",
    "from sklearn.metrics import accuracy_score, confusion_matrix, ConfusionMatrixDisplay\n",
    "from sklearn.model_selection import train_test_split\n",
    "from sklearn.inspection import DecisionBoundaryDisplay\n",
    "\n",
    "\n",
    "seed=1234\n",
    "np.random.seed(seed)"
   ]
  },
  {
   "cell_type": "markdown",
   "id": "0498ec65-6d11-4d5c-ae46-a0c01b6de535",
   "metadata": {},
   "source": [
    "### k-Nearest Neighbors (kNN)"
   ]
  },
  {
   "cell_type": "code",
   "execution_count": null,
   "id": "0284d8ad-a339-473b-8907-df1536b4a150",
   "metadata": {},
   "outputs": [],
   "source": []
  }
 ],
 "metadata": {
  "kernelspec": {
   "display_name": "Python 3 (ipykernel)",
   "language": "python",
   "name": "python3"
  },
  "language_info": {
   "codemirror_mode": {
    "name": "ipython",
    "version": 3
   },
   "file_extension": ".py",
   "mimetype": "text/x-python",
   "name": "python",
   "nbconvert_exporter": "python",
   "pygments_lexer": "ipython3",
   "version": "3.10.14"
  }
 },
 "nbformat": 4,
 "nbformat_minor": 5
}
